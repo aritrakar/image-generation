{
  "cells": [
    {
      "cell_type": "markdown",
      "metadata": {
        "id": "ITZ424RmCapp"
      },
      "source": [
        "# Exploring Transformers for Sequence Modeling\n",
        "\n",
        "In this project, I delve into the implementation and training of Transformer models. Transformers, introduced by Vaswani et al. in 2017, have revolutionized the field of natural language processing (NLP) by enabling efficient parallel processing of sequences.\n",
        "\n",
        "This project aims to implement a Transformer model and train it on a sequence modeling task. The Transformer model's architecture, based on self-attention mechanisms, is particularly well-suited for tasks such as language modeling, translation, and more."
      ]
    },
    {
      "cell_type": "markdown",
      "metadata": {
        "id": "ZsZFDop0Capq"
      },
      "source": [
        "### Multi-Head Attention\n",
        "\n",
        "The multi-head attention mechanism is a core component of the Transformer model. It allows the model to jointly attend to information from different representation subspaces at different positions. Here's a breakdown of how it works:\n",
        "\n",
        "1. **Scaled Dot-Product Attention:**\n",
        "   - The basic unit of attention is the scaled dot-product attention, which computes the attention scores between queries (Q), keys (K), and values (V). The scores determine how much focus to place on different parts of the input sequence.\n",
        "   - The attention mechanism is defined as:\n",
        "     $\n",
        "     \\text{Attention}(Q, K, V) = \\text{softmax}\\left(\\frac{QK^T}{\\sqrt{d_k}}\\right)V\n",
        "     $\n",
        "     where $d_k$ is the dimension of the keys.\n",
        "\n",
        "2. **Multi-Head Mechanism:**\n",
        "   - Instead of performing a single attention function, the multi-head mechanism splits the queries, keys, and values into multiple heads, each of which performs attention separately. The results are then concatenated and linearly transformed to produce the final output.\n",
        "   - This allows the model to capture different types of dependencies and relationships in the input sequence.\n",
        "\n",
        "3. **Implementation:**\n",
        "   - The multi-head attention is implemented by first linearly projecting the queries, keys, and values $h$ times with different learned projections, then applying the scaled dot-product attention in parallel, and finally concatenating the results.\n",
        "\n",
        "The multi-head attention mechanism enhances the model's ability to focus on different parts of the sequence and learn various aspects of the data simultaneously."
      ]
    },
    {
      "cell_type": "code",
      "execution_count": 1,
      "metadata": {
        "vscode": {
          "languageId": "plaintext"
        },
        "id": "et0Bibf6Capr"
      },
      "outputs": [],
      "source": [
        "import torch\n",
        "import torch.nn as nn\n",
        "import torch.optim as optim\n",
        "import torch.utils.data as data\n",
        "import math\n",
        "import copy\n",
        "import matplotlib.pyplot as plt\n",
        "\n",
        "class MultiHeadAttention(nn.Module):\n",
        "    def __init__(self, d_embedding, n_heads):\n",
        "        super(MultiHeadAttention, self).__init__()\n",
        "        assert d_embedding % n_heads == 0\n",
        "\n",
        "        self.d_embedding = d_embedding\n",
        "        self.n_heads = n_heads\n",
        "        self.d_k = d_embedding // n_heads\n",
        "\n",
        "        self.W_q = nn.Linear(d_embedding, d_embedding)\n",
        "        self.W_k = nn.Linear(d_embedding, d_embedding)\n",
        "        self.W_v = nn.Linear(d_embedding, d_embedding)\n",
        "        self.W_o = nn.Linear(d_embedding, d_embedding)\n",
        "\n",
        "    def compute_attention_probs(self, Q, K, V, mask=None):\n",
        "        attn_scores = torch.matmul(Q, K.transpose(-2, -1)) / math.sqrt(self.d_k)\n",
        "        if mask is not None:\n",
        "            attn_scores = attn_scores.masked_fill(mask == 0, -1e9)\n",
        "        attn_probs = torch.softmax(attn_scores, dim=-1)\n",
        "        output = torch.matmul(attn_probs, V)\n",
        "        return output\n",
        "\n",
        "    def make_heads(self, x):\n",
        "        batch_size, seq_length, d_embedding = x.size()\n",
        "        y = x.view(batch_size, seq_length, self.n_heads, self.d_k).transpose(1, 2)\n",
        "        return x.view(batch_size, seq_length, self.n_heads, self.d_k).transpose(1, 2)\n",
        "\n",
        "    def join_heads(self, x):\n",
        "        batch_size, _, seq_length, d_k = x.size()\n",
        "        return x.transpose(1, 2).contiguous().view(batch_size, seq_length, self.d_embedding)\n",
        "\n",
        "    def forward(self, Q, K, V, mask=None):\n",
        "        Q = self.make_heads(self.W_q(Q)) # Replace Q with Q*W^q\n",
        "        K = self.make_heads(self.W_k(K)) # Replace K with K*W^k\n",
        "        V = self.make_heads(self.W_v(V)) # Replace V with V*W^v\n",
        "\n",
        "        x = self.compute_attention_probs(Q, K, V, mask) # Compute attention scores\n",
        "        x = self.join_heads(x) # Join the heads (concatenation)\n",
        "        x = self.W_o(x) # Final linear layer\n",
        "        return x"
      ]
    },
    {
      "cell_type": "markdown",
      "metadata": {
        "id": "A2GmdYLaCapr"
      },
      "source": [
        "### Feedforward Neural Network\n",
        "\n",
        "The feedforward neural network (FFN) is another crucial component in both the encoder and decoder blocks of the Transformer model. It operates on each position of the sequence independently and identically. Here's an overview of the feedforward network:\n",
        "\n",
        "1. **Two Linear Layers with ReLU Activation:**\n",
        "   - The FFN consists of two linear transformations with a ReLU activation in between. This introduces non-linearity into the model, enabling it to capture more complex patterns in the data.\n",
        "   - The transformation is defined as:\n",
        "     $\n",
        "      \\text{FFN}(x) = \\max(0, xW_1 + b_1)W_2 + b_2\n",
        "     $\n",
        "     where $W_1$ and $W_2$ are weight matrices, and $b_1$ and $b_2$ are bias terms.\n",
        "\n",
        "2. **Position-wise Application:**\n",
        "   - Unlike traditional feedforward layers that are applied to the entire input, the FFN in the Transformer is applied to each position separately and identically. This means that the same feedforward network is used for each token in the sequence.\n",
        "\n",
        "3. **Dimension Expansion and Reduction:**\n",
        "   - The first linear layer expands the dimension from $d_{\\text{model}}$ to a higher dimension (typically four times larger), and the second linear layer reduces it back to $d_{\\text{model}}$. This allows the model to learn more complex representations within the higher-dimensional space.\n",
        "\n",
        "The feedforward neural network helps the Transformer model to process and transform the input representations, adding another layer of abstraction and enabling it to learn more sophisticated features from the data."
      ]
    },
    {
      "cell_type": "code",
      "execution_count": 2,
      "metadata": {
        "vscode": {
          "languageId": "plaintext"
        },
        "id": "B4oHgXX-Capr"
      },
      "outputs": [],
      "source": [
        "class FeedForward(nn.Module):\n",
        "    def __init__(self, d_embedding, d_ff):\n",
        "        super(FeedForward, self).__init__()\n",
        "        self.fc1 = nn.Linear(d_embedding, d_ff)\n",
        "        self.fc2 = nn.Linear(d_ff, d_embedding)\n",
        "        self.relu = nn.ReLU()\n",
        "\n",
        "    def forward(self, x):\n",
        "        x = self.fc1(x)\n",
        "        x = self.relu(x)\n",
        "        x = self.fc2(x)\n",
        "        return x"
      ]
    },
    {
      "cell_type": "markdown",
      "metadata": {
        "id": "f2l97gJjCapr"
      },
      "source": [
        "## Encoder block\n",
        "\n",
        "The first part of the Transformer mechanism comprises the Encoder block. This block, as the name suggests, is in charge of producing intermediate encodings for the input which the model decodes in the next part, which is the Decoder block.\n",
        "\n",
        "Each encoder block consists of the following components:\n",
        "\n",
        "1. **Multi-head Self-Attention Mechanism:** This mechanism allows the model to focus on different parts of the input sequence when encoding a particular token. By using multiple heads, the model can capture various aspects of the relationships between tokens.\n",
        "\n",
        "2. **Feedforward Neural Network:** A fully connected feedforward neural network is applied to each position separately and identically. It consists of two linear transformations with a ReLU activation in between.\n",
        "\n",
        "3. **Layer Normalization:** Layer normalization is applied after the self-attention and feedforward networks to stabilize and speed up the training process.\n",
        "\n",
        "4. **Residual Connections (Skip Connections):** Residual connections are used to help the flow of gradients during backpropagation. The input to each sub-layer is added to its output, and the result is normalized.\n",
        "\n",
        "The combination of these components allows the encoder to effectively capture the dependencies and relationships within the input sequence."
      ]
    },
    {
      "cell_type": "code",
      "execution_count": 3,
      "metadata": {
        "vscode": {
          "languageId": "plaintext"
        },
        "id": "W3_IuzJpCaps"
      },
      "outputs": [],
      "source": [
        "class EncoderBlock(nn.Module):\n",
        "    def __init__(self, d_embedding, n_heads, d_ff, dropout):\n",
        "        super(EncoderBlock, self).__init__()\n",
        "        self.self_attention = MultiHeadAttention(d_embedding, n_heads)\n",
        "        self.feed_forward = FeedForward(d_embedding, d_ff)\n",
        "        self.norm1 = nn.LayerNorm(d_embedding)\n",
        "        self.norm2 = nn.LayerNorm(d_embedding)\n",
        "        self.dropout1 = nn.Dropout(dropout)\n",
        "        self.dropout2 = nn.Dropout(dropout)\n",
        "\n",
        "    def forward(self, x, mask):\n",
        "        \"\"\"\n",
        "        Returns: The output of encoder on a given input batch x\n",
        "        \"\"\"\n",
        "        # First, pass the input through the multi-head self-attention layer\n",
        "        attn_output = self.self_attention(x, x, x, mask)\n",
        "\n",
        "        # Apply dropout to the attention output\n",
        "        attn_output = self.dropout1(attn_output)\n",
        "\n",
        "        # Add the input x to the output of the dropout layer as a residual connection, then apply layer normalization\n",
        "        x = self.norm1(x + attn_output)\n",
        "\n",
        "        # Pass the output through the feed-forward network\n",
        "        ff_output = self.feed_forward(x)\n",
        "\n",
        "        # Apply dropout to the feed-forward network output\n",
        "        ff_output = self.dropout2(ff_output)\n",
        "\n",
        "        # Add the output of the feed-forward layer to x as a residual connection, then apply layer normalization\n",
        "        x = self.norm2(x + ff_output)\n",
        "\n",
        "        return x"
      ]
    },
    {
      "cell_type": "markdown",
      "metadata": {
        "id": "yo6W7bqSCaps"
      },
      "source": [
        "### Decoder Block\n",
        "\n",
        "The decoder block in the Transformer model is designed to generate output sequences by attending to both the encoder outputs and the previously generated tokens. Each decoder block consists of the following components:\n",
        "\n",
        "1. **Masked Multi-head Self-Attention Mechanism:** This mechanism allows the decoder to attend to different parts of the output sequence generated so far while ensuring that predictions for a particular position depend only on the known outputs at positions before it.\n",
        "\n",
        "2. **Multi-head Attention Mechanism:** This layer attends to the encoder's output, allowing the decoder to focus on relevant parts of the input sequence. It helps the decoder to use information from the entire input sequence while generating each token of the output.\n",
        "\n",
        "3. **Feedforward Neural Network:** Similar to the encoder, a fully connected feedforward neural network is applied to each position separately and identically.\n",
        "\n",
        "4. **Layer Normalization:** Layer normalization is applied after each attention and feedforward network to stabilize and speed up the training process.\n",
        "\n",
        "5. **Residual Connections (Skip Connections):** Residual connections are used to facilitate the flow of gradients during backpropagation. The input to each sub-layer is added to its output, and the result is normalized.\n",
        "\n",
        "These components enable the decoder to generate coherent and contextually appropriate sequences by attending to the encoder outputs and the previously generated tokens."
      ]
    },
    {
      "cell_type": "code",
      "execution_count": 4,
      "metadata": {
        "vscode": {
          "languageId": "plaintext"
        },
        "id": "tRlFrWYgCaps"
      },
      "outputs": [],
      "source": [
        "class DecoderBlock(nn.Module):\n",
        "    def __init__(self, d_embedding, n_heads, d_ff, dropout):\n",
        "        super(DecoderBlock, self).__init__()\n",
        "        \"\"\"\n",
        "        Args:\n",
        "           self_attention: decoder's multi-head attention\n",
        "           cross_attention: The multi-head attention layer between the encoder and the decoder\n",
        "           feed_forward: feed-forward layer\n",
        "           mask: mask to be given for multi head attention\n",
        "           norm1: First Normalization layer\n",
        "           norm2: Second Normalization layer\n",
        "           norm3: Third Normalization layer\n",
        "           dropout: Final dropout layer\n",
        "        \"\"\"\n",
        "        self.self_attention = MultiHeadAttention(d_embedding, n_heads)\n",
        "        self.cross_attention = MultiHeadAttention(d_embedding, n_heads)\n",
        "        self.feed_forward = FeedForward(d_embedding, d_ff)\n",
        "        self.norm1 = nn.LayerNorm(d_embedding)\n",
        "        self.norm2 = nn.LayerNorm(d_embedding)\n",
        "        self.norm3 = nn.LayerNorm(d_embedding)\n",
        "        self.dropout1 = nn.Dropout(dropout)\n",
        "        self.dropout2 = nn.Dropout(dropout)\n",
        "        self.dropout3 = nn.Dropout(dropout)\n",
        "\n",
        "    def forward(self, x, enc_output, src_mask, tgt_mask):\n",
        "        \"\"\"\n",
        "        Returns: The output of decoder on a given input batch x\n",
        "        \"\"\"\n",
        "        # Self-attention\n",
        "        attn_output = self.self_attention(x, x, x, tgt_mask)\n",
        "        attn_output = self.dropout1(attn_output)\n",
        "        x = self.norm1(x + attn_output)  # Apply residual connection and normalize\n",
        "\n",
        "        # Cross-attention\n",
        "        cross_attn_output = self.cross_attention(x, enc_output, enc_output, src_mask)\n",
        "        cross_attn_output = self.dropout2(cross_attn_output)\n",
        "        x = self.norm2(x + cross_attn_output)  # Apply residual connection and normalize\n",
        "\n",
        "        # Feed-forward\n",
        "        ff_output = self.feed_forward(x)\n",
        "        ff_output = self.dropout3(ff_output)\n",
        "        x = self.norm3(x + ff_output)  # Apply residual connection and normalize\n",
        "\n",
        "        return x"
      ]
    },
    {
      "cell_type": "markdown",
      "metadata": {
        "id": "95CXQyOqCaps"
      },
      "source": [
        "## Positional encoding\n",
        "\n",
        "The last part we need to implement the Transformer block is the positional encoding block. Positional encoding is an essential part of the transformer because it helps assign semantic weightage to words depending on their order (or \"position\") in the sequence - therefore, words \"closer\" to the current word will have more \"importance\" and vice versa."
      ]
    },
    {
      "cell_type": "code",
      "execution_count": 5,
      "metadata": {
        "vscode": {
          "languageId": "plaintext"
        },
        "id": "tAHqVk8ZCaps"
      },
      "outputs": [],
      "source": [
        "class PositionalEncoding(nn.Module):\n",
        "    def __init__(self, d_embedding, max_seq_length):\n",
        "        super(PositionalEncoding, self).__init__()\n",
        "\n",
        "        pe = torch.zeros(max_seq_length, d_embedding)\n",
        "        position = torch.arange(0, max_seq_length, dtype=torch.float).unsqueeze(1)\n",
        "        div_term = torch.exp(torch.arange(0, d_embedding, 2).float() * -(math.log(10000.0) / d_embedding))\n",
        "\n",
        "        pe[:, 0::2] = torch.sin(position * div_term)\n",
        "        pe[:, 1::2] = torch.cos(position * div_term)\n",
        "\n",
        "        self.register_buffer('pe', pe.unsqueeze(0))\n",
        "\n",
        "    def forward(self, x):\n",
        "        return x + self.pe[:, :x.size(1)]"
      ]
    },
    {
      "cell_type": "markdown",
      "metadata": {
        "id": "SDR4Z9q_Capt"
      },
      "source": [
        "## Putting It All Together\n",
        "\n",
        "The Transformer model consists of a stack of identical encoder and decoder blocks. The encoder processes the input sequence and generates a set of attention-based representations. The decoder then uses these representations, along with the previously generated tokens, to produce the output sequence.\n",
        "\n",
        "By leveraging self-attention and multi-head attention mechanisms, the Transformer model can capture complex dependencies and relationships within the data, making it highly effective for various sequence modeling tasks."
      ]
    },
    {
      "cell_type": "code",
      "execution_count": 6,
      "metadata": {
        "vscode": {
          "languageId": "plaintext"
        },
        "id": "pIm9eCztCapt"
      },
      "outputs": [],
      "source": [
        "class Transformer(nn.Module):\n",
        "    def __init__(self, src_vocab_size, tgt_vocab_size, d_embedding, n_heads, num_layers, d_ff, max_seq_length, dropout):\n",
        "        super(Transformer, self).__init__()\n",
        "        self.encoder_embedding = nn.Embedding(src_vocab_size, d_embedding)\n",
        "        self.decoder_embedding = nn.Embedding(tgt_vocab_size, d_embedding)\n",
        "        self.positional_encoding = PositionalEncoding(d_embedding, max_seq_length)\n",
        "\n",
        "        self.encoder_layers = nn.ModuleList([EncoderBlock(d_embedding, n_heads, d_ff, dropout) for _ in range(num_layers)])\n",
        "        self.decoder_layers = nn.ModuleList([DecoderBlock(d_embedding, n_heads, d_ff, dropout) for _ in range(num_layers)])\n",
        "\n",
        "        self.fc = nn.Linear(d_embedding, tgt_vocab_size)\n",
        "        self.dropout = nn.Dropout(dropout)\n",
        "\n",
        "    # Masking the input; the outputs returned by this function should be passed to encoder and decoder layers\n",
        "    def generate_mask(self, src, tgt):\n",
        "        src_mask = (src != 0).unsqueeze(1).unsqueeze(2)\n",
        "        tgt_mask = (tgt != 0).unsqueeze(1).unsqueeze(3)\n",
        "        seq_length = tgt.size(1)\n",
        "        nopeak_mask = (1 - torch.triu(torch.ones(1, seq_length, seq_length), diagonal=1)).bool()\n",
        "        tgt_mask = tgt_mask & nopeak_mask\n",
        "        return src_mask, tgt_mask\n",
        "\n",
        "    def forward(self, src, tgt):\n",
        "        \"\"\"\n",
        "        Returns: The output of transformer on a given input batch x\n",
        "        \"\"\"\n",
        "        src_mask, tgt_mask = self.generate_mask(src, tgt)\n",
        "\n",
        "        # Pass the input through the encoder layers\n",
        "        x = self.dropout(self.positional_encoding(self.encoder_embedding(src)))\n",
        "        for encoder_layer in self.encoder_layers:\n",
        "            x = encoder_layer(x, src_mask)\n",
        "\n",
        "        # Pass the input through the decoder layers\n",
        "        y = self.dropout(self.positional_encoding(self.decoder_embedding(tgt)))\n",
        "        for decoder_layer in self.decoder_layers:\n",
        "            y = decoder_layer(y, x, src_mask, tgt_mask)\n",
        "\n",
        "        # Apply dropout to the output of the decoder layers\n",
        "        # y = self.dropout(y)\n",
        "        y = self.fc(y)\n",
        "\n",
        "        return y"
      ]
    },
    {
      "cell_type": "markdown",
      "metadata": {
        "id": "zibSdNGwCapt"
      },
      "source": [
        "## Training\n",
        "\n",
        "We train the Transformer model using appropriate loss functions and optimization techniques. The model aims to learn patterns in the sequence data and improve its performance on the given task over multiple epochs. We will track the training process and monitor the model's performance. Since the loss function output goes down with the epochs, we understand that the transformer is training correctly and behaving as expected."
      ]
    },
    {
      "cell_type": "code",
      "execution_count": 7,
      "metadata": {
        "vscode": {
          "languageId": "plaintext"
        },
        "colab": {
          "base_uri": "https://localhost:8080/"
        },
        "id": "dBd0IJLiCapt",
        "outputId": "a70b0dfb-e1a6-4d67-dcbd-e573e83873be"
      },
      "outputs": [
        {
          "output_type": "stream",
          "name": "stdout",
          "text": [
            "Epoch [1/25], Loss: 8.6774\n",
            "Epoch [2/25], Loss: 8.5359\n",
            "Epoch [3/25], Loss: 8.4435\n",
            "Epoch [4/25], Loss: 8.3526\n",
            "Epoch [5/25], Loss: 8.2394\n",
            "Epoch [6/25], Loss: 8.1204\n",
            "Epoch [7/25], Loss: 7.9994\n",
            "Epoch [8/25], Loss: 7.8808\n",
            "Epoch [9/25], Loss: 7.7657\n",
            "Epoch [10/25], Loss: 7.6479\n",
            "Epoch [11/25], Loss: 7.5275\n",
            "Epoch [12/25], Loss: 7.4031\n",
            "Epoch [13/25], Loss: 7.2949\n",
            "Epoch [14/25], Loss: 7.1699\n",
            "Epoch [15/25], Loss: 7.0571\n",
            "Epoch [16/25], Loss: 6.9397\n",
            "Epoch [17/25], Loss: 6.8277\n",
            "Epoch [18/25], Loss: 6.7123\n",
            "Epoch [19/25], Loss: 6.5990\n",
            "Epoch [20/25], Loss: 6.4911\n",
            "Epoch [21/25], Loss: 6.3798\n",
            "Epoch [22/25], Loss: 6.2721\n",
            "Epoch [23/25], Loss: 6.1610\n",
            "Epoch [24/25], Loss: 6.0599\n",
            "Epoch [25/25], Loss: 5.9536\n"
          ]
        }
      ],
      "source": [
        "src_vocab_size = 5000\n",
        "tgt_vocab_size = 5000\n",
        "d_embedding = 512\n",
        "n_heads = 8\n",
        "num_layers = 6\n",
        "d_ff = 2048\n",
        "max_seq_length = 100\n",
        "dropout = 0.1\n",
        "EPOCHS = 25\n",
        "training_loss = []\n",
        "\n",
        "transformer = Transformer(src_vocab_size, tgt_vocab_size, d_embedding, n_heads, num_layers, d_ff, max_seq_length, dropout)\n",
        "\n",
        "# Generate random sample data\n",
        "src_data = torch.randint(1, src_vocab_size, (64, max_seq_length))\n",
        "tgt_data = torch.randint(1, tgt_vocab_size, (64, max_seq_length))\n",
        "\n",
        "criterion = nn.CrossEntropyLoss(ignore_index=0)\n",
        "optimizer = optim.Adam(transformer.parameters(), lr=0.0001, betas=(0.9, 0.98), eps=1e-9)\n",
        "\n",
        "transformer.train()\n",
        "\n",
        "for epoch in range(EPOCHS):\n",
        "    optimizer.zero_grad()\n",
        "    output = transformer(src_data, tgt_data)\n",
        "    loss = criterion(output.view(-1, tgt_vocab_size), tgt_data.view(-1))\n",
        "    # output = transformer(src_data, tgt_data[:, :-1])\n",
        "    # loss = criterion(output.contiguous().view(-1, tgt_vocab_size), tgt_data[:, 1:].contiguous().view(-1))\n",
        "\n",
        "    loss.backward()\n",
        "    optimizer.step()\n",
        "    print(f'Epoch [{epoch+1}/{EPOCHS}], Loss: {loss.item():.4f}')\n",
        "\n",
        "    training_loss.append(loss.item())\n",
        "\n",
        "torch.save(transformer.state_dict(), \"./etc/transformer\")"
      ]
    },
    {
      "cell_type": "code",
      "execution_count": 8,
      "metadata": {
        "vscode": {
          "languageId": "plaintext"
        },
        "colab": {
          "base_uri": "https://localhost:8080/",
          "height": 449
        },
        "id": "SSC7uRb3Capt",
        "outputId": "3725d418-0fe6-4b01-ef23-412cc04eb3e8"
      },
      "outputs": [
        {
          "output_type": "display_data",
          "data": {
            "text/plain": [
              "<Figure size 640x480 with 1 Axes>"
            ],
            "image/png": "[encoded data removed]"
          },
          "metadata": {}
        }
      ],
      "source": [
        "plt.plot(list(range(1, EPOCHS+1)), training_loss)\n",
        "plt.ylabel(\"Loss\")\n",
        "plt.xlabel(\"Epoch\")\n",
        "plt.show()"
      ]
    }
  ],
  "metadata": {
    "language_info": {
      "name": "python"
    },
    "colab": {
      "provenance": []
    },
    "kernelspec": {
      "name": "python3",
      "display_name": "Python 3"
    }
  },
  "nbformat": 4,
  "nbformat_minor": 0
}