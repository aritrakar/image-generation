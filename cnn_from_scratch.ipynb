{
  "cells": [
    {
      "cell_type": "markdown",
      "metadata": {
        "id": "-yQ2Av1NIWTn"
      },
      "source": [
        "# CNN from scratch\n",
        "\n",
        "In this notebook, I implement a simple Convolutional Neural Network (CNN), along with other components, from scratch in PyTorch and test it with the CIFAR-10 dataset."
      ]
    },
    {
      "cell_type": "code",
      "execution_count": 1,
      "metadata": {
        "id": "bIfyXOkcM4-2"
      },
      "outputs": [],
      "source": [
        "import numpy as np\n",
        "import matplotlib.pyplot as plt\n",
        "import torch\n",
        "import torch.nn as nn\n",
        "import torch.nn.functional as F\n",
        "import torchvision\n",
        "from torchvision import datasets\n",
        "import torchvision.transforms as transforms\n",
        "from torch.optim import Optimizer\n",
        "from torch.utils.data import DataLoader, random_split\n",
        "from tqdm import tqdm\n",
        "from typing import Tuple"
      ]
    },
    {
      "cell_type": "markdown",
      "metadata": {
        "id": "JetnIX7XJTKW"
      },
      "source": [
        "## Helper functions\n",
        "\n",
        "I use the following functions to verify the correctness of my implementations."
      ]
    },
    {
      "cell_type": "code",
      "execution_count": 2,
      "metadata": {
        "id": "eZyJtXZtIp6N"
      },
      "outputs": [],
      "source": [
        "def verify_conv2d():\n",
        "    x = torch.randn(1, 3, 32, 32)\n",
        "    in_channels = 3\n",
        "    out_channels = 16\n",
        "    kernel_size = 3\n",
        "    stride = 1\n",
        "    padding = 1\n",
        "\n",
        "    conv_pytorch = nn.Conv2d(in_channels, out_channels, kernel_size, stride, padding)\n",
        "    output_pytorch = conv_pytorch(x)\n",
        "\n",
        "    conv_custom = Conv2d(in_channels, out_channels, kernel_size, stride, padding)\n",
        "    conv_custom.weight.data = conv_pytorch.weight.data.clone()\n",
        "    conv_custom.bias.data = conv_pytorch.bias.data.clone()\n",
        "    output_custom = conv_custom(x)\n",
        "    difference = (output_pytorch - output_custom).abs().max()\n",
        "    return (difference < 1e-06).item()"
      ]
    },
    {
      "cell_type": "code",
      "execution_count": 3,
      "metadata": {
        "id": "IhOzASnGIy_d"
      },
      "outputs": [],
      "source": [
        "@torch.no_grad\n",
        "def verify_dropout():\n",
        "    p = 0.8\n",
        "    n = int(1e5)\n",
        "    x = torch.randn(5,)\n",
        "    weight = torch.randn(5,)\n",
        "\n",
        "    y = torch.dot(x, weight)\n",
        "    print('x dot product weight', y)\n",
        "\n",
        "    dropout_pytorch = nn.Dropout(p)\n",
        "    dropout_custom = Dropout(p)\n",
        "\n",
        "    dropout_pytorch.eval()\n",
        "    dropout_custom.eval()\n",
        "\n",
        "    output_pytorch = dropout_pytorch(y)\n",
        "    output_custom = dropout_custom(y)\n",
        "    assert torch.allclose(output_pytorch, output_custom), \"The outputs are not the same in evaluation mode.\"\n",
        "\n",
        "    dropout_pytorch.train()\n",
        "    dropout_custom.train()\n",
        "\n",
        "    pytorch_dropout_train = torch.zeros_like(output_pytorch)\n",
        "    custom_dropout_train = torch.zeros_like(output_custom)\n",
        "\n",
        "    for _ in range(n):\n",
        "        x_hat = dropout_pytorch(x)\n",
        "        pytorch_dropout_train += torch.dot(x_hat, weight)\n",
        "        x_hat = dropout_custom(x)\n",
        "        custom_dropout_train += torch.dot(x_hat, weight)\n",
        "\n",
        "    pytorch_dropout_train /= n\n",
        "    custom_dropout_train /= n\n",
        "\n",
        "    print('Empirical mean of Pytorch Dropout result', pytorch_dropout_train)\n",
        "    print('Empirical mean of Custom Dropout result', custom_dropout_train)"
      ]
    },
    {
      "cell_type": "code",
      "execution_count": 4,
      "metadata": {
        "id": "olB9uVEdJA8r"
      },
      "outputs": [],
      "source": [
        "@torch.no_grad\n",
        "def verify_batchnorm():\n",
        "    x = torch.randn(2, 3, 4, 4)\n",
        "\n",
        "    num_features = x.shape[1]\n",
        "\n",
        "    custom_bn = BatchNorm2d(num_features, eps=1e-5, momentum=0.1)\n",
        "    pytorch_bn = nn.BatchNorm2d(num_features, eps=1e-5, momentum=0.1)\n",
        "\n",
        "    pytorch_bn.weight.data = custom_bn.weight.data.clone()\n",
        "    pytorch_bn.bias.data = custom_bn.bias.data.clone()\n",
        "    pytorch_bn.running_mean = custom_bn.running_mean.clone()\n",
        "    pytorch_bn.running_var = custom_bn.running_var.clone()\n",
        "\n",
        "    custom_bn.train()\n",
        "    pytorch_bn.train()\n",
        "\n",
        "    output_custom = custom_bn(x)\n",
        "    output_pytorch = pytorch_bn(x)\n",
        "\n",
        "    difference = (output_custom - output_pytorch).abs().max()\n",
        "    return (difference < 1e-06).item()"
      ]
    },
    {
      "cell_type": "code",
      "execution_count": 5,
      "metadata": {
        "id": "WZajlqkLJcC0"
      },
      "outputs": [],
      "source": [
        "@torch.no_grad\n",
        "def eval_accuracy(model, eval_loader: DataLoader, device):\n",
        "    model.eval()\n",
        "    n_correct = 0\n",
        "    n_total = 0\n",
        "    for imgs, labels in eval_loader:\n",
        "        imgs, labels = imgs.to(device), labels.to(device)\n",
        "        logits = model(imgs)\n",
        "        _, pred = torch.max(logits, 1)\n",
        "\n",
        "        n_correct += (pred == labels).sum().item()\n",
        "        n_total += len(labels)\n",
        "\n",
        "    return n_correct / n_total"
      ]
    },
    {
      "cell_type": "code",
      "execution_count": 6,
      "metadata": {
        "id": "gZ8GOvVyLTN9"
      },
      "outputs": [],
      "source": [
        "def plot_curves(train_error_rates, val_error_rates):\n",
        "    plt.figure(figsize=(10, 6))\n",
        "    # epochs = range(1, len(train_error_rates) + 1)\n",
        "    epochs = [i*20 for i in range(1, len(train_error_rates) + 1)]\n",
        "    plt.plot(epochs, train_error_rates, 'bo-', label='Training Error')\n",
        "    plt.plot(epochs, val_error_rates, 'ro-', label='Validation Error')\n",
        "    plt.title('Training and Validation Error Rates')\n",
        "    plt.xlabel('Epochs')\n",
        "    plt.ylabel('Error Rate')\n",
        "    plt.legend()\n",
        "    plt.grid(True)\n",
        "    plt.show()"
      ]
    },
    {
      "cell_type": "code",
      "execution_count": 7,
      "metadata": {
        "id": "WOUxM8HCLoNI"
      },
      "outputs": [],
      "source": [
        "def imshow(img):\n",
        "    img = img / 2 + 0.5\n",
        "    npimg = img.numpy()\n",
        "    plt.imshow(np.transpose(npimg, (1, 2, 0)))\n",
        "\n",
        "classes = ['airplane', 'automobile', 'bird', 'cat', 'deer',\n",
        "           'dog', 'frog', 'horse', 'ship', 'truck']\n",
        "\n",
        "def show_batch(data_loader):\n",
        "    dataiter = iter(data_loader)\n",
        "    images, labels = next(dataiter)\n",
        "    fig = plt.figure(figsize=(25, 4))\n",
        "    for idx in range(20):\n",
        "        ax = fig.add_subplot(2, 10, idx+1, xticks=[], yticks=[])\n",
        "        imshow(images[idx])\n",
        "        ax.set_title(classes[labels[idx]])"
      ]
    },
    {
      "cell_type": "markdown",
      "metadata": {
        "id": "Pjm7j2siKyh9"
      },
      "source": [
        "# Load and prepare the datasets\n",
        "\n",
        "First, we split the dataset into training, validation, and test datasets and apply some transformations to them. Note that the train-validation split is 80%."
      ]
    },
    {
      "cell_type": "code",
      "execution_count": 8,
      "metadata": {
        "id": "zaxPAE4wJQkK"
      },
      "outputs": [],
      "source": [
        "device = torch.device(\"cuda\" if torch.cuda.is_available() else \"cpu\")\n",
        "generator = torch.manual_seed(2024)"
      ]
    },
    {
      "cell_type": "code",
      "execution_count": 9,
      "metadata": {
        "id": "Avh2Gc1AJM8H",
        "colab": {
          "base_uri": "https://localhost:8080/"
        },
        "outputId": "fb89be5d-8dc6-4305-d3b6-ba0b6f59de07"
      },
      "outputs": [
        {
          "output_type": "stream",
          "name": "stdout",
          "text": [
            "Downloading https://www.cs.toronto.edu/~kriz/cifar-10-python.tar.gz to data/cifar-10-python.tar.gz\n"
          ]
        },
        {
          "output_type": "stream",
          "name": "stderr",
          "text": [
            "100%|██████████| 170498071/170498071 [00:02<00:00, 79537114.45it/s]\n"
          ]
        },
        {
          "output_type": "stream",
          "name": "stdout",
          "text": [
            "Extracting data/cifar-10-python.tar.gz to data\n",
            "Files already downloaded and verified\n"
          ]
        }
      ],
      "source": [
        "batch_size = 128\n",
        "\n",
        "normalize = transforms.Normalize(mean=[0.485, 0.456, 0.406],\n",
        "                                 std=[0.229, 0.224, 0.225])\n",
        "\n",
        "transform = transforms.Compose([\n",
        "    transforms.RandomHorizontalFlip(),\n",
        "    transforms.RandomCrop(32, 4),\n",
        "    transforms.ToTensor(),\n",
        "    normalize,\n",
        "])\n",
        "\n",
        "\n",
        "train_data = datasets.CIFAR10('data', train=True, download=True, transform=transform)\n",
        "test_data = datasets.CIFAR10('data', train=False, download=True, transform=transform)"
      ]
    },
    {
      "cell_type": "code",
      "execution_count": 10,
      "metadata": {
        "id": "dx555ITFyMnG"
      },
      "outputs": [],
      "source": [
        "def build_loaders(train_data: torch.utils.data.Dataset,\n",
        "                  test_data: torch.utils.data.Dataset,\n",
        "                  train_ratio: float=0.8,\n",
        "                  val_ratio: float=0.2,\n",
        "                  batch_size:int=batch_size) -> Tuple[DataLoader, DataLoader, DataLoader]:\n",
        "    \"\"\"\n",
        "    Args:\n",
        "    - train_data: CIFAR-10 train data\n",
        "    - test_data: CIFAR-10 test data\n",
        "    - train_ratio: ratio of training\n",
        "    - val_ratio: ratio of validation\n",
        "    - batch_size: Batch size\n",
        "    Returns:\n",
        "    - train_loader: Dataloader for training\n",
        "    - val_loader: Dataloader for validation\n",
        "    - test_loader: Dataloader for test\n",
        "    \"\"\"\n",
        "    # Split into training and validtion sets\n",
        "    train, val = random_split(train_data, [train_ratio, val_ratio], generator=generator)\n",
        "\n",
        "    # Create DataLoaders\n",
        "    train_loader = DataLoader(train, batch_size=batch_size) #, num_workers=8)\n",
        "    val_loader = DataLoader(val, batch_size=batch_size) #, num_workers=8)\n",
        "    test_loader = DataLoader(test_data, batch_size=batch_size) #, num_workers=8)\n",
        "\n",
        "    return train_loader, val_loader, test_loader\n",
        "\n",
        "train_loader, val_loader, test_loader = build_loaders(train_data, test_data)"
      ]
    },
    {
      "cell_type": "markdown",
      "metadata": {
        "id": "rf4360OAMnts"
      },
      "source": [
        "### Visualize a Batch of Training Data"
      ]
    },
    {
      "cell_type": "code",
      "execution_count": 11,
      "metadata": {
        "id": "47UhuMrGMnOZ",
        "colab": {
          "base_uri": "https://localhost:8080/",
          "height": 595
        },
        "outputId": "b38e5735-ddcc-42a2-f9ec-93e59030bcbe"
      },
      "outputs": [
        {
          "output_type": "stream",
          "name": "stderr",
          "text": [
            "WARNING:matplotlib.image:Clipping input data to the valid range for imshow with RGB data ([0..1] for floats or [0..255] for integers).\n",
            "WARNING:matplotlib.image:Clipping input data to the valid range for imshow with RGB data ([0..1] for floats or [0..255] for integers).\n",
            "WARNING:matplotlib.image:Clipping input data to the valid range for imshow with RGB data ([0..1] for floats or [0..255] for integers).\n",
            "WARNING:matplotlib.image:Clipping input data to the valid range for imshow with RGB data ([0..1] for floats or [0..255] for integers).\n",
            "WARNING:matplotlib.image:Clipping input data to the valid range for imshow with RGB data ([0..1] for floats or [0..255] for integers).\n",
            "WARNING:matplotlib.image:Clipping input data to the valid range for imshow with RGB data ([0..1] for floats or [0..255] for integers).\n",
            "WARNING:matplotlib.image:Clipping input data to the valid range for imshow with RGB data ([0..1] for floats or [0..255] for integers).\n",
            "WARNING:matplotlib.image:Clipping input data to the valid range for imshow with RGB data ([0..1] for floats or [0..255] for integers).\n",
            "WARNING:matplotlib.image:Clipping input data to the valid range for imshow with RGB data ([0..1] for floats or [0..255] for integers).\n",
            "WARNING:matplotlib.image:Clipping input data to the valid range for imshow with RGB data ([0..1] for floats or [0..255] for integers).\n",
            "WARNING:matplotlib.image:Clipping input data to the valid range for imshow with RGB data ([0..1] for floats or [0..255] for integers).\n",
            "WARNING:matplotlib.image:Clipping input data to the valid range for imshow with RGB data ([0..1] for floats or [0..255] for integers).\n",
            "WARNING:matplotlib.image:Clipping input data to the valid range for imshow with RGB data ([0..1] for floats or [0..255] for integers).\n",
            "WARNING:matplotlib.image:Clipping input data to the valid range for imshow with RGB data ([0..1] for floats or [0..255] for integers).\n",
            "WARNING:matplotlib.image:Clipping input data to the valid range for imshow with RGB data ([0..1] for floats or [0..255] for integers).\n",
            "WARNING:matplotlib.image:Clipping input data to the valid range for imshow with RGB data ([0..1] for floats or [0..255] for integers).\n",
            "WARNING:matplotlib.image:Clipping input data to the valid range for imshow with RGB data ([0..1] for floats or [0..255] for integers).\n",
            "WARNING:matplotlib.image:Clipping input data to the valid range for imshow with RGB data ([0..1] for floats or [0..255] for integers).\n",
            "WARNING:matplotlib.image:Clipping input data to the valid range for imshow with RGB data ([0..1] for floats or [0..255] for integers).\n",
            "WARNING:matplotlib.image:Clipping input data to the valid range for imshow with RGB data ([0..1] for floats or [0..255] for integers).\n"
          ]
        },
        {
          "output_type": "display_data",
          "data": {
            "text/plain": [
              "<Figure size 2500x400 with 20 Axes>"
            ],
            "image/png": "[encoded data removed]"
          },
          "metadata": {}
        }
      ],
      "source": [
        "show_batch(train_loader)"
      ]
    },
    {
      "cell_type": "markdown",
      "metadata": {
        "id": "-jJQY-YXNCw4"
      },
      "source": [
        "# Implement Conv2d\n",
        "\n",
        "Here's my implementation of the convolutional layer Conv2d, similar to PyTorch's `torch.nn.Conv2d`. The main challenge for this part was implementing the convolution operation successfully in the `forward` method, which I was able to do rather succinctly thanks to Python's handy list comprehension notation."
      ]
    },
    {
      "cell_type": "code",
      "execution_count": 12,
      "metadata": {
        "id": "DnfpDVNmLPxn",
        "colab": {
          "base_uri": "https://localhost:8080/"
        },
        "outputId": "6977b836-2d5c-428c-9dc0-bcdfb26ddb5c"
      },
      "outputs": [
        {
          "output_type": "stream",
          "name": "stdout",
          "text": [
            "Passed conv2d test: True\n"
          ]
        }
      ],
      "source": [
        "class Conv2d(nn.Module):\n",
        "    def __init__(self, in_channels, out_channels, kernel_size, stride=1, padding=0):\n",
        "        super(Conv2d, self).__init__()\n",
        "\n",
        "        assert in_channels > 0 and out_channels > 0 and kernel_size > 0\n",
        "        self.kernel_size = kernel_size\n",
        "        self.stride = stride\n",
        "        self.padding = padding\n",
        "        self.in_channels = in_channels\n",
        "        self.out_channels = out_channels\n",
        "        self.weight = nn.Parameter(torch.randn(out_channels, in_channels, kernel_size, kernel_size))\n",
        "        self.bias = nn.Parameter(torch.randn(out_channels))\n",
        "\n",
        "    def forward(self, x):\n",
        "        \"\"\"\n",
        "        Args:\n",
        "        - x: input tensor\n",
        "        Returns:\n",
        "        - output: convoluted tensor\n",
        "        \"\"\"\n",
        "        # Get input dimensions\n",
        "        n, c, h, w = x.shape\n",
        "\n",
        "        # Get output dimensions\n",
        "        out_h = ((h + 2 * self.padding - self.kernel_size) // self.stride) + 1 # // is floor division\n",
        "        out_w = ((w + 2 * self.padding - self.kernel_size) // self.stride) + 1\n",
        "\n",
        "        # Create output tensor\n",
        "        output = torch.zeros(n, self.weight.shape[0], out_h, out_w)\n",
        "\n",
        "        # Pad input tensor\n",
        "        x_padded = F.pad(x, (self.padding, self.padding, self.padding, self.padding))\n",
        "\n",
        "        for i in range(self.out_channels):\n",
        "            for y in range(out_h):\n",
        "                for x in range(out_w):\n",
        "                    output[:, i, y, x] = (self.weight[i] * x_padded[:, :, y*self.stride:y*self.stride+self.kernel_size, x*self.stride:x*self.stride+self.kernel_size]).sum(dim=(1,2,3)) + self.bias[i]\n",
        "\n",
        "        return output\n",
        "\n",
        "# Test Conv2d\n",
        "conv2d_passed = verify_conv2d()\n",
        "print('Passed conv2d test:', conv2d_passed)"
      ]
    },
    {
      "cell_type": "markdown",
      "metadata": {
        "id": "YWjsXknhe0Q9"
      },
      "source": [
        "# Implement Dropout Layer\n",
        "\n",
        "Now, I implement my own Dropout layer as well and compare its output to PyTorch's `Dropout` layer to test correctness."
      ]
    },
    {
      "cell_type": "code",
      "execution_count": 13,
      "metadata": {
        "id": "dcGR65Q8lX90",
        "colab": {
          "base_uri": "https://localhost:8080/"
        },
        "outputId": "49777520-62dc-405c-c45e-717817bbcc24"
      },
      "outputs": [
        {
          "output_type": "stream",
          "name": "stdout",
          "text": [
            "x dot product weight tensor(-1.9127)\n",
            "Empirical mean of Pytorch Dropout result tensor(-1.8975)\n",
            "Empirical mean of Custom Dropout result tensor(-1.9101)\n"
          ]
        }
      ],
      "source": [
        "class Dropout(nn.Module):\n",
        "    def __init__(self, p):\n",
        "        super(Dropout, self).__init__()\n",
        "        \"\"\"\n",
        "        Args:\n",
        "        - p: dropout rate\n",
        "        \"\"\"\n",
        "        assert p >= 0 and p <= 1\n",
        "        self.p = p\n",
        "\n",
        "    def forward(self, x):\n",
        "        \"\"\"\n",
        "        Args:\n",
        "        - x: input tensor\n",
        "        Returns:\n",
        "        - output: dropout tensor\n",
        "        \"\"\"\n",
        "        if self.training:\n",
        "            mask = torch.rand_like(x) > self.p\n",
        "            return (x * mask) / (1 - self.p) # Scaling factor (inverse of keep probability)\n",
        "        else:\n",
        "            return x\n",
        "\n",
        "# Test\n",
        "verify_dropout()"
      ]
    },
    {
      "cell_type": "markdown",
      "metadata": {
        "id": "_kNvxwFYXx1q"
      },
      "source": [
        "# Implement BatchNorm2d\n",
        "\n",
        "Now, I implement the BatchNorm2d class and compare its output to that of PyTorch's `BatchNorm2d` class.\n",
        "\n",
        "### Mathematical background\n",
        "\n",
        "During training, we are given a batch $\\mathcal{B} = \\{\\mathbf{x}^{(1)}, \\dots, \\mathbf{x}^{(m)}\\}$ with size $m$. Suppose $\\mathbf{x} \\in \\mathbf{R}^d$. We use $\\mathbf{x}^{(i)}_j$ to represent $j$-th element in $i$-th sample. For each channel, we need to compute\n",
        "$\\boldsymbol{\\mu}_{j} = \\frac{1}{m}\\sum_{i=1}^{m} \\mathbf{x}^{(i)}_j$ and\n",
        "$\\boldsymbol{\\sigma}_{j}^2 = \\frac{1}{m}\\sum_{i=1}^m (\\mathbf{x}^{(i)}_j - \\boldsymbol{\\mu}_j)^2.$ Then, there are learnable parameters $\\gamma$ and $\\beta$. $$BN(\\mathbf{x}^{(i)}_j) = \\gamma \\frac{\\mathbf{x}^{(i)}_j - \\boldsymbol{\\mu}_j}{\\sqrt{\\boldsymbol{\\sigma}^2_j + \\epsilon}} + \\beta,$$\n",
        "where $\\epsilon$ is a hyperparameter for numerical stability. Again, the above equation is for each channel. If there are three channels, then there are three different $\\gamma$'s and $\\beta$'s for each channel.\n"
      ]
    },
    {
      "cell_type": "code",
      "execution_count": 14,
      "metadata": {
        "id": "HoYJUj2BX1Y9",
        "colab": {
          "base_uri": "https://localhost:8080/"
        },
        "outputId": "5b51f41b-8140-457d-88fc-93e33dc6d33f"
      },
      "outputs": [
        {
          "output_type": "stream",
          "name": "stdout",
          "text": [
            "Customize BatchNormalization 2d passed:  True\n"
          ]
        }
      ],
      "source": [
        "class BatchNorm2d(nn.Module):\n",
        "    def __init__(self, num_features: int, eps:float=1e-5, momentum:float=0.1):\n",
        "        super(BatchNorm2d, self).__init__()\n",
        "        self.num_features = num_features\n",
        "        self.eps = eps\n",
        "        self.momentum = momentum\n",
        "\n",
        "        self.weight = nn.Parameter(torch.ones(num_features))\n",
        "        self.bias = nn.Parameter(torch.zeros(num_features))\n",
        "\n",
        "        self.register_buffer('running_mean', torch.zeros(num_features))\n",
        "        self.register_buffer('running_var', torch.ones(num_features))\n",
        "\n",
        "        self.reset_parameters()\n",
        "\n",
        "    def reset_parameters(self):\n",
        "        self.running_mean.zero_()\n",
        "        self.running_var.fill_(1)\n",
        "        nn.init.uniform_(self.weight)\n",
        "        nn.init.zeros_(self.bias)\n",
        "\n",
        "#     def forward(self, x: torch.Tensor) -> torch.Tensor:\n",
        "#         if self.training:\n",
        "#             # Calculate the mean and variance of the current batch\n",
        "#             batch_mean = x.mean(dim=(0, 2, 3), keepdim=True)\n",
        "#             batch_var = x.var(dim=(0, 2, 3), keepdim=True, unbiased=False)\n",
        "\n",
        "#             # Normalize the current batch\n",
        "#             x = (x - batch_mean) / (batch_var + self.eps).sqrt()\n",
        "\n",
        "#             # Update running mean and running variance\n",
        "#             self.running_mean = (1 - self.momentum) * self.running_mean.detach() + self.momentum * batch_mean.detach().squeeze()\n",
        "#             self.running_var = (1 - self.momentum) * self.running_var.detach() + self.momentum * x.var([0, 2, 3], keepdim=True, unbiased=True).detach().squeeze()\n",
        "#         else:\n",
        "#             x = (x - self.running_mean.view(1, self.num_features, 1, 1)) / \\\n",
        "#                 (self.running_var.view(1, self.num_features, 1, 1) + self.eps).sqrt()\n",
        "\n",
        "#         x = x * self.weight.view(1, self.num_features, 1, 1) + self.bias.view(1, self.num_features, 1, 1)\n",
        "#         return x\n",
        "\n",
        "    def forward(self, x):\n",
        "        if self.training:\n",
        "            # Compute batch mean and biased variance\n",
        "            batch_mean = x.mean([0, 2, 3], keepdim=True)\n",
        "            batch_var = x.var([0, 2, 3], keepdim=True, unbiased=False)  # Biased variance for normalization\n",
        "\n",
        "            # Normalize using batch statistics\n",
        "            x_normalized = (x - batch_mean) / (batch_var + self.eps).sqrt()\n",
        "\n",
        "            # Update running mean and variance using unbiased variance\n",
        "            unbiased_batch_var = x.var([0, 2, 3], keepdim=True, unbiased=True)  # Unbiased variance for running stats\n",
        "            self.running_mean = (1 - self.momentum) * self.running_mean + self.momentum * batch_mean.squeeze()\n",
        "            self.running_var = (1 - self.momentum) * self.running_var + self.momentum * unbiased_batch_var.detach().squeeze()\n",
        "        else:\n",
        "            # Normalize using running mean and variance for inference\n",
        "            x_normalized = (x - self.running_mean.view(1, self.num_features, 1, 1)) / \\\n",
        "                (self.running_var.view(1, self.num_features, 1, 1) + self.eps).sqrt()\n",
        "\n",
        "        # Scale and shift\n",
        "        x_out = x_normalized * self.weight.view(1, self.num_features, 1, 1) + self.bias.view(1, self.num_features, 1, 1)\n",
        "        return x_out\n",
        "\n",
        "# Test\n",
        "passed = verify_batchnorm()\n",
        "print('Customize BatchNormalization 2d passed: ', passed)"
      ]
    },
    {
      "cell_type": "markdown",
      "metadata": {
        "id": "PPMsAq5bBwot"
      },
      "source": [
        "# Implementing Cross Entropy Loss\n",
        "\n",
        "I also implement the cross entropy function from scratch and test it against PyTorch's cross entropy function. Note that there are a couple of ways to implement this, but the `logsumexp` technique is more numerically stable so I used that."
      ]
    },
    {
      "cell_type": "code",
      "execution_count": 15,
      "metadata": {
        "id": "u87aoD-5oMlP",
        "colab": {
          "base_uri": "https://localhost:8080/"
        },
        "outputId": "ea0eb441-b7f2-4e2e-feba-ceabfcfff468"
      },
      "outputs": [
        {
          "output_type": "stream",
          "name": "stdout",
          "text": [
            "tensor([0, 2, 2, 1, 0])\n",
            "Custom cross entropy loss: tensor(1.1529)\n",
            "Pytorch cross entropy loss: tensor(1.1529)\n"
          ]
        }
      ],
      "source": [
        "def cross_entropy(logits: torch.Tensor, labels: torch.LongTensor) -> torch.Tensor:\n",
        "    \"\"\"\n",
        "    Args:\n",
        "    - logits: Tensor of logits (shape: [batch_size, num_classes]).\n",
        "    - labels: LongTensor of labels (shape: [batch_size]).\n",
        "\n",
        "    Returns:\n",
        "    - loss: the mean cross entropy loss.\n",
        "    \"\"\"\n",
        "    if not labels.dtype == torch.long:\n",
        "        raise ValueError(\"Labels dtype should be torch.long\")\n",
        "\n",
        "    # NOTE: Both approaches work, but the second approach is more \"numericall stable\"\n",
        "    # Find the softmax of the logits\n",
        "#     probabilities = F.softmax(logits, dim=1)\n",
        "\n",
        "#     # Find the log of the probabilities of the correct classes\n",
        "#     true_class_probabilities = probabilities[range(len(labels)), labels]\n",
        "\n",
        "#     # Compute the cross-entropy loss (mean of the negative log probabilities of the correct classes)\n",
        "#     log_probabilities = torch.log(true_class_probabilities)\n",
        "#     loss = -torch.mean(log_probabilities)\n",
        "\n",
        "    # Compute max logit to use for log-sum-exp trick for numerical stability\n",
        "    max_logits = torch.max(logits, dim=1, keepdim=True).values\n",
        "\n",
        "    # Compute the log-sum-exp of logits\n",
        "    log_sum_exp = torch.logsumexp(logits - max_logits, dim=1)\n",
        "\n",
        "    # Select the logits for the true class labels\n",
        "    true_logits = logits[torch.arange(labels.size(0)), labels]\n",
        "\n",
        "    # Compute the stable cross-entropy loss\n",
        "    loss = -torch.mean(true_logits - max_logits.squeeze() - log_sum_exp)\n",
        "\n",
        "    return loss\n",
        "\n",
        "# Verify the implementation\n",
        "batch_size, n_classes = 5, 3\n",
        "x = torch.randn(batch_size, n_classes)\n",
        "target = torch.randint(n_classes, size=(batch_size,), dtype=torch.long)\n",
        "print(target)\n",
        "my_loss = cross_entropy(x, target)\n",
        "torch_loss = F.cross_entropy(x, target)\n",
        "print('Custom cross entropy loss:', my_loss)\n",
        "print('Pytorch cross entropy loss:', torch_loss)"
      ]
    },
    {
      "cell_type": "markdown",
      "metadata": {
        "id": "e3tqEAg1CDDk"
      },
      "source": [
        "# Implementing Stochastic Gradient Descent (SGD)\n",
        "\n",
        "The last part before putting everything together is implementing SGD for the optimization process."
      ]
    },
    {
      "cell_type": "code",
      "execution_count": 16,
      "metadata": {
        "id": "FTDlVTxKootN"
      },
      "outputs": [],
      "source": [
        "class SGD(Optimizer):\n",
        "    def __init__(self, params, lr=0.01):\n",
        "        if lr < 0.0:\n",
        "            raise ValueError(\"Invalid learning rate: {}\".format(lr))\n",
        "\n",
        "        defaults = dict(lr=lr)\n",
        "        super(SGD, self).__init__(params, defaults)\n",
        "\n",
        "    def step(self, closure=None):\n",
        "        loss = None\n",
        "        if closure is not None:\n",
        "            loss = closure()\n",
        "\n",
        "        for group in self.param_groups:\n",
        "            for p in group['params']:\n",
        "                if p.grad is None:\n",
        "                    continue\n",
        "                # Using SGD update rule\n",
        "                p.data -= group['lr'] * p.grad\n",
        "\n",
        "        return loss"
      ]
    },
    {
      "cell_type": "code",
      "execution_count": 17,
      "metadata": {
        "colab": {
          "base_uri": "https://localhost:8080/"
        },
        "id": "KbAmEsDsry45",
        "outputId": "ebde0031-1d53-40a8-ebb7-a0c7fd683132"
      },
      "outputs": [
        {
          "output_type": "stream",
          "name": "stdout",
          "text": [
            "target:  tensor([[0.],\n",
            "        [1.],\n",
            "        [1.],\n",
            "        [1.],\n",
            "        [0.]])\n",
            "Custom SGD matches PyTorch's SGD: (tensor(True), tensor(2.9802e-08))\n"
          ]
        }
      ],
      "source": [
        "# CUSTOM VERIFICATION CODE\n",
        "def verify_sgd(lr=0.01, iterations=20):\n",
        "    # Create a simple model\n",
        "    model_custom = nn.Linear(10, 1)\n",
        "    model_pytorch = nn.Linear(10, 1)\n",
        "\n",
        "    # Ensure both models start with the same weights\n",
        "    model_pytorch.load_state_dict(model_custom.state_dict())\n",
        "\n",
        "    # Initialize optimizers\n",
        "    optimizer_custom = SGD(model_custom.parameters(), lr=lr)\n",
        "    optimizer_pytorch = torch.optim.SGD(model_pytorch.parameters(), lr=lr)\n",
        "\n",
        "    # print(\"optimizer_custom: \", optimizer_custom)\n",
        "    # print(\"optimizer_pytorch: \", optimizer_pytorch)\n",
        "\n",
        "    # Create a dummy input and target\n",
        "    inputs = torch.randn(5, 10)\n",
        "    target = torch.randint(0, 2, (5, 1)).float()\n",
        "\n",
        "    print(\"target: \", target)\n",
        "\n",
        "    # Define a simple loss function\n",
        "    criterion = nn.MSELoss()\n",
        "\n",
        "    for _ in range(iterations):\n",
        "        # PyTorch SGD step\n",
        "        optimizer_pytorch.zero_grad()\n",
        "        output_pytorch = model_pytorch(inputs)\n",
        "        loss_pytorch = criterion(output_pytorch, target)\n",
        "        loss_pytorch.backward()\n",
        "        optimizer_pytorch.step()\n",
        "\n",
        "        # Custom SGD step\n",
        "        optimizer_custom.zero_grad()\n",
        "        output_custom = model_custom(inputs)\n",
        "\n",
        "        loss_custom = criterion(output_custom, target)\n",
        "        loss_custom.backward()\n",
        "        optimizer_custom.step()\n",
        "\n",
        "    # Compare parameters\n",
        "    max_difference = max((p1.data - p2.data).abs().max() for p1, p2 in zip(model_custom.parameters(), model_pytorch.parameters()))\n",
        "\n",
        "    # Return True if the models are still the same within a tolerance\n",
        "    return max_difference < 1e-06, max_difference\n",
        "\n",
        "# Run the verification\n",
        "is_correct = verify_sgd(lr=0.01, iterations=100)\n",
        "print(f\"Custom SGD matches PyTorch's SGD: {is_correct}\")"
      ]
    },
    {
      "cell_type": "markdown",
      "metadata": {
        "id": "g74ZJzJkqDRz"
      },
      "source": [
        "# Combine everything!\n",
        "\n",
        "Finally, I combine the custom solutions developed above to construct a simple CNN. However, to enhance computational efficiency, I had to use ```nn.Conv2d``` instead of the custom Conv2d class for the convolution operations. The training process uses  ```cross_entropy``` as the loss function, with ```SGD``` serving as the optimizer to this model.\n",
        "\n",
        "The CNN consists of three convolutional blocks, each equipped with a Conv2d layer (kernel size of 2, padding of 1), BatchNorm2d, ReLU, and MaxPool2d. The Conv2d layers sequentially increase channel size from 3 to 16, 16 to 32, and 32 to 64. The network concludes with a multilayer perceptron (MLP) classifier, which includes a linear layer from an adjustable input dimension to 512 hidden units, ReLU, Dropout (0.25), and a final linear layer mapping to 10 classes. This structure is designed for efficient feature extraction and classification."
      ]
    },
    {
      "cell_type": "code",
      "execution_count": 18,
      "metadata": {
        "id": "iXCoTuQNry45"
      },
      "outputs": [],
      "source": [
        "class SimpleCNN(nn.Module):\n",
        "    def __init__(self, num_classes:int=10):\n",
        "        super(SimpleCNN, self).__init__()\n",
        "\n",
        "        self.conv1 = nn.Sequential(\n",
        "            nn.Conv2d(3, 16, kernel_size=3, padding=1),\n",
        "            BatchNorm2d(16),\n",
        "            nn.ReLU(),\n",
        "            nn.MaxPool2d(kernel_size=2, padding=0, stride=2)\n",
        "        )\n",
        "\n",
        "        self.conv2 = nn.Sequential(\n",
        "            nn.Conv2d(16, 32, kernel_size=3, padding=1),\n",
        "            BatchNorm2d(32),\n",
        "            nn.ReLU(),\n",
        "            nn.MaxPool2d(kernel_size=2, padding=0, stride=2)\n",
        "        )\n",
        "\n",
        "        self.conv3 = nn.Sequential(\n",
        "            nn.Conv2d(32, 64, kernel_size=3, padding=1),\n",
        "            BatchNorm2d(64),\n",
        "            nn.ReLU(),\n",
        "            nn.MaxPool2d(kernel_size=2, padding=0, stride=2)\n",
        "        )\n",
        "\n",
        "        self.mlp = nn.Sequential(\n",
        "            nn.Linear(64 * 4 * 4, 512),\n",
        "            nn.ReLU(),\n",
        "            Dropout(0.25),\n",
        "            nn.Linear(512, num_classes)\n",
        "        )\n",
        "\n",
        "    def forward(self, x: torch.Tensor) -> torch.Tensor:\n",
        "        x = self.conv1(x)\n",
        "        x = self.conv2(x)\n",
        "        x = self.conv3(x)\n",
        "\n",
        "        # Flatten the tensor\n",
        "        x = x.view(x.size(0), -1)\n",
        "\n",
        "        x = self.mlp(x)\n",
        "\n",
        "        return x"
      ]
    },
    {
      "cell_type": "code",
      "execution_count": 19,
      "metadata": {
        "colab": {
          "base_uri": "https://localhost:8080/"
        },
        "id": "LoE73i7Wry46",
        "outputId": "04e69d25-937f-4ff9-8f5a-de9e3b1e5a47"
      },
      "outputs": [
        {
          "output_type": "stream",
          "name": "stderr",
          "text": [
            " 20%|██        | 10/50 [03:54<18:55, 28.38s/it]"
          ]
        },
        {
          "output_type": "stream",
          "name": "stdout",
          "text": [
            "Epoch: 10\n",
            "Average training loss: 1.445\n",
            "Current validation error rate: 44.170\n",
            "Val error rate is decreasing: {100.00%} -> {44.17%}\n",
            "Model saved\n"
          ]
        },
        {
          "output_type": "stream",
          "name": "stderr",
          "text": [
            " 40%|████      | 20/50 [07:43<13:43, 27.47s/it]"
          ]
        },
        {
          "output_type": "stream",
          "name": "stdout",
          "text": [
            "Epoch: 20\n",
            "Average training loss: 1.081\n",
            "Current validation error rate: 36.430\n",
            "Val error rate is decreasing: {44.17%} -> {36.43%}\n",
            "Model saved\n"
          ]
        },
        {
          "output_type": "stream",
          "name": "stderr",
          "text": [
            " 60%|██████    | 30/50 [11:29<09:04, 27.24s/it]"
          ]
        },
        {
          "output_type": "stream",
          "name": "stdout",
          "text": [
            "Epoch: 30\n",
            "Average training loss: 0.944\n",
            "Current validation error rate: 32.030\n",
            "Val error rate is decreasing: {36.43%} -> {32.03%}\n",
            "Model saved\n"
          ]
        },
        {
          "output_type": "stream",
          "name": "stderr",
          "text": [
            " 80%|████████  | 40/50 [15:16<04:34, 27.45s/it]"
          ]
        },
        {
          "output_type": "stream",
          "name": "stdout",
          "text": [
            "Epoch: 40\n",
            "Average training loss: 0.857\n",
            "Current validation error rate: 31.000\n",
            "Val error rate is decreasing: {32.03%} -> {31.00%}\n",
            "Model saved\n"
          ]
        },
        {
          "output_type": "stream",
          "name": "stderr",
          "text": [
            "100%|██████████| 50/50 [19:09<00:00, 22.99s/it]"
          ]
        },
        {
          "output_type": "stream",
          "name": "stdout",
          "text": [
            "Epoch: 50\n",
            "Average training loss: 0.793\n",
            "Current validation error rate: 26.910\n",
            "Val error rate is decreasing: {31.00%} -> {26.91%}\n",
            "Model saved\n"
          ]
        },
        {
          "output_type": "stream",
          "name": "stderr",
          "text": [
            "\n"
          ]
        }
      ],
      "source": [
        "# Train\n",
        "\n",
        "n_epochs = 50\n",
        "eval_interval = 10\n",
        "model = SimpleCNN()\n",
        "model.to(device)\n",
        "optimizer = SGD(model.parameters(), lr=0.01)\n",
        "# optimizer = torch.optim.SGD(model.parameters(), lr=0.01)\n",
        "min_error = 1.0\n",
        "train_error_rates, val_error_rates = [], []\n",
        "running_loss, running_steps = 0.0, 0\n",
        "\n",
        "for epoch in tqdm(range(1, n_epochs + 1)):\n",
        "    model.train()\n",
        "    for imgs, labels in train_loader:\n",
        "        imgs, labels = imgs.to(device), labels.to(device)\n",
        "        logits = model(imgs)\n",
        "        optimizer.zero_grad()\n",
        "        loss = cross_entropy(logits, labels)\n",
        "        loss.backward()\n",
        "        optimizer.step()\n",
        "        running_loss += loss.item()\n",
        "        running_steps += 1\n",
        "\n",
        "    if epoch % eval_interval == 0:\n",
        "        train_error = 1 - eval_accuracy(model, train_loader, device)\n",
        "        val_error = 1 - eval_accuracy(model, val_loader, device)\n",
        "\n",
        "        # Append your error rates for plotting\n",
        "        train_error_rates.append(train_error)\n",
        "        val_error_rates.append(val_error)\n",
        "\n",
        "        print('Epoch: %d' % epoch)\n",
        "        print('Average training loss: %.3f' % (running_loss / running_steps))\n",
        "        print('Current validation error rate: %.3f' % (val_error * 100.0))\n",
        "        running_loss, running_steps = 0., 0\n",
        "        if val_error < min_error:\n",
        "            print('Val error rate is decreasing: {%.2f%%} -> {%.2f%%}' % (min_error * 100.0, val_error * 100.0))\n",
        "            torch.save(model.state_dict(), 'model_parameters.pth')\n",
        "            print('Model saved')\n",
        "\n",
        "        min_error = min(val_error, min_error)"
      ]
    },
    {
      "cell_type": "code",
      "execution_count": 20,
      "metadata": {
        "id": "3c0netYoAF6O",
        "colab": {
          "base_uri": "https://localhost:8080/"
        },
        "outputId": "cedf64c1-a6ef-4e40-c5a9-6be85cbe978d"
      },
      "outputs": [
        {
          "output_type": "stream",
          "name": "stdout",
          "text": [
            "Test accuracy = 72.33%\n"
          ]
        }
      ],
      "source": [
        "# Test\n",
        "model.load_state_dict(torch.load('model_parameters.pth'))\n",
        "test_acc = eval_accuracy(model, test_loader, device)\n",
        "print('Test accuracy = %.2f%%' % (test_acc * 100))"
      ]
    },
    {
      "cell_type": "code",
      "execution_count": 21,
      "metadata": {
        "colab": {
          "base_uri": "https://localhost:8080/"
        },
        "id": "RRhjY4-Vry46",
        "outputId": "c28ead6e-89cd-4eab-f605-e8e87b5f0783"
      },
      "outputs": [
        {
          "output_type": "stream",
          "name": "stdout",
          "text": [
            "[0.42327499999999996, 0.35024999999999995, 0.317875, 0.30005000000000004, 0.257675]\n",
            "[0.4417, 0.36429999999999996, 0.32030000000000003, 0.31000000000000005, 0.2691]\n"
          ]
        }
      ],
      "source": [
        "print(train_error_rates)\n",
        "print(val_error_rates)"
      ]
    },
    {
      "cell_type": "code",
      "execution_count": 22,
      "metadata": {
        "id": "rKYdQRf8knlj",
        "colab": {
          "base_uri": "https://localhost:8080/",
          "height": 564
        },
        "outputId": "87ba53d8-7833-4025-baeb-9d0ea0044840"
      },
      "outputs": [
        {
          "output_type": "display_data",
          "data": {
            "text/plain": [
              "<Figure size 1000x600 with 1 Axes>"
            ],
            "image/png": "[encoded data removed]"
          },
          "metadata": {}
        }
      ],
      "source": [
        "plot_curves(train_error_rates, val_error_rates)"
      ]
    }
  ],
  "metadata": {
    "accelerator": "GPU",
    "anaconda-cloud": {},
    "colab": {
      "gpuType": "T4",
      "machine_shape": "hm",
      "provenance": []
    },
    "kernelspec": {
      "display_name": "Python 3 user modules",
      "language": "python",
      "name": "python3-user-modules"
    },
    "language_info": {
      "codemirror_mode": {
        "name": "ipython",
        "version": 3
      },
      "file_extension": ".py",
      "mimetype": "text/x-python",
      "name": "python",
      "nbconvert_exporter": "python",
      "pygments_lexer": "ipython3",
      "version": "3.10.4"
    },
    "toc": {
      "base_numbering": 1,
      "nav_menu": {},
      "number_sections": true,
      "sideBar": true,
      "skip_h1_title": false,
      "title_cell": "Table of Contents",
      "title_sidebar": "Contents",
      "toc_cell": false,
      "toc_position": {},
      "toc_section_display": true,
      "toc_window_display": false
    },
    "varInspector": {
      "cols": {
        "lenName": 16,
        "lenType": 16,
        "lenVar": 40
      },
      "kernels_config": {
        "python": {
          "delete_cmd_postfix": "",
          "delete_cmd_prefix": "del ",
          "library": "var_list.py",
          "varRefreshCmd": "print(var_dic_list())"
        },
        "r": {
          "delete_cmd_postfix": ") ",
          "delete_cmd_prefix": "rm(",
          "library": "var_list.r",
          "varRefreshCmd": "cat(var_dic_list()) "
        }
      },
      "types_to_exclude": [
        "module",
        "function",
        "builtin_function_or_method",
        "instance",
        "_Feature"
      ],
      "window_display": false
    }
  },
  "nbformat": 4,
  "nbformat_minor": 0
}